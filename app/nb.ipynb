{
 "cells": [
  {
   "cell_type": "markdown",
   "source": [
    "This could be used to get some extra data to return from the Details endpoint"
   ],
   "metadata": {}
  },
  {
   "cell_type": "code",
   "execution_count": 15,
   "source": [
    "import googlemaps\n",
    "from pprint import pprint\n",
    "from os import getenv\n",
    "GOOGLE_API_KEY = getenv('GOOGLE_API_KEY')\n",
    "gmaps = googlemaps.Client(key=GOOGLE_API_KEY)\n",
    "\n",
    "petrolStationData = gmaps.places_nearby(location=\"50.1458853,8.9091131\", radius=100, type=\"gas_station\")[\"results\"][0]\n",
    "pprint(petrolStationData)\n",
    "\n",
    "# It even gives you images of the place\n",
    "# Note that the filetype is different from image to image\n",
    "with open('userimage.jpeg', 'wb') as f:\n",
    "    for chunk in gmaps.places_photo(petrolStationData['photos'][0]['photo_reference'], max_width=200):\n",
    "        if chunk:\n",
    "            f.write(chunk)\n",
    "\n",
    "from IPython.display import Image\n",
    "Image(filename='userimage.jpeg') "
   ],
   "outputs": [
    {
     "output_type": "stream",
     "name": "stdout",
     "text": [
      "{'business_status': 'OPERATIONAL',\n",
      " 'geometry': {'location': {'lat': 50.1460117, 'lng': 8.9088757},\n",
      "              'viewport': {'northeast': {'lat': 50.1473854802915,\n",
      "                                         'lng': 8.910367530291502},\n",
      "                           'southwest': {'lat': 50.1446875197085,\n",
      "                                         'lng': 8.907669569708498}}},\n",
      " 'icon': 'https://maps.gstatic.com/mapfiles/place_api/icons/v1/png_71/gas_station-71.png',\n",
      " 'icon_background_color': '#909CE1',\n",
      " 'icon_mask_base_uri': 'https://maps.gstatic.com/mapfiles/place_api/icons/v2/gas_pinlet',\n",
      " 'name': 'Agip Service Station',\n",
      " 'opening_hours': {'open_now': False},\n",
      " 'photos': [{'height': 2336,\n",
      "             'html_attributions': ['<a '\n",
      "                                   'href=\"https://maps.google.com/maps/contrib/102609602328050258689\">BARBAROSSA</a>'],\n",
      "             'photo_reference': 'Aap_uECzX1312ynoBM2rfeRmnYW66iWZyRbSC78qC2eV9_9BLzowLf29G7aJ7cxQDFToI2kxGx0iIjWUfjwqT6DteFpMlsSNbU6GZZPGHCeLQ2GEYvrTA5rHqj_LU-qCQUjASam4QD5UOB13-QWnsi2BTVaLNBokO6Gt-GIUTwvMA4-UM1Xt',\n",
      "             'width': 4160}],\n",
      " 'place_id': 'ChIJE9M-YjkXvUcRUQfcCtVCohg',\n",
      " 'plus_code': {'compound_code': '4WW5+CH Hanau, Germany',\n",
      "               'global_code': '9F2C4WW5+CH'},\n",
      " 'rating': 4.2,\n",
      " 'reference': 'ChIJE9M-YjkXvUcRUQfcCtVCohg',\n",
      " 'scope': 'GOOGLE',\n",
      " 'types': ['gas_station',\n",
      "           'car_wash',\n",
      "           'bakery',\n",
      "           'food',\n",
      "           'point_of_interest',\n",
      "           'store',\n",
      "           'establishment'],\n",
      " 'user_ratings_total': 290,\n",
      " 'vicinity': 'Bruchköbeler Landstraße 53, Hanau'}\n"
     ]
    },
    {
     "output_type": "execute_result",
     "data": {
      "text/plain": [
       "<IPython.core.display.Image object>"
      ],
      "image/jpeg": "[encoded data removed]"
     },
     "metadata": {},
     "execution_count": 15
    }
   ],
   "metadata": {}
  },
  {
   "cell_type": "code",
   "execution_count": null,
   "source": [],
   "outputs": [],
   "metadata": {}
  }
 ],
 "metadata": {
  "orig_nbformat": 4,
  "language_info": {
   "name": "python",
   "version": "3.9.5",
   "mimetype": "text/x-python",
   "codemirror_mode": {
    "name": "ipython",
    "version": 3
   },
   "pygments_lexer": "ipython3",
   "nbconvert_exporter": "python",
   "file_extension": ".py"
  },
  "kernelspec": {
   "name": "python3",
   "display_name": "Python 3.9.5 64-bit ('PetrolStationApp-gUDhT0Ti': pipenv)"
  },
  "interpreter": {
   "hash": "d2ca5306c756bb7ec5e662339a8faaabf197c26811ee6f908b4c0e4cec0674d7"
  }
 },
 "nbformat": 4,
 "nbformat_minor": 2
}